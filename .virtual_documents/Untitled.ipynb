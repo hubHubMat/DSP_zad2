import numpy as np
import matplotlib.pyplot as plt



f1 = 500  # Frequency of first sine wave (in Hz)
f2 = 500.25  # Frequency of second sine wave (in Hz)
f3 = 499.75  # Frequency of third sine wave (in Hz)
A = 3  # Amplitude
fs = 800  # Sampling frequency (in Hz)
N = 1800  # Number of samples


k = np.arange(N)
n = k / fs  # Time vector (optional, for reference)


x1 = A * np.sin(2 * np.pi * f1 * k / fs)
x2 = A * np.sin(2 * np.pi * f2 * k / fs)
x3 = A * np.sin(2 * np.pi * f3 * k / fs)


X1_dft = np.fft.fft(x1)
X2_dft = np.fft.fft(x2)
X3_dft = np.fft.fft(x3)


X1_dft_norm = np.abs(X1_dft) / np.max(np.abs(X1_dft))
X2_dft_norm = np.abs(X2_dft) / np.max(np.abs(X2_dft))
X3_dft_norm = np.abs(X3_dft) / np.max(np.abs(X3_dft))


f = np.fft.fftfreq(N, 1/fs)


plt.figure(figsize=(12, 6))
plt.subplot(1, 2, 1)
plt.plot(f[:N//2], X1_dft_norm[:N//2], label="f1 = 500 Hz")
plt.plot(f[:N//2], X2_dft_norm[:N//2], label="f2 = 500.25 Hz")
plt.plot(f[:N//2], X3_dft_norm[:N//2], label="f3 = 499.75 Hz")
plt.title('Normalized DFT Spectra')
plt.xlabel('Frequency (Hz)')
plt.ylabel('Magnitude (Normalized)')
plt.legend()
plt.grid()


window = np.hanning(N)
x1_windowed = x1 * window
x2_windowed = x2 * window
x3_windowed = x3 * window


X1_dtft = np.fft.fft(x1_windowed)
X2_dtft = np.fft.fft(x2_windowed)
X3_dtft = np.fft.fft(x3_windowed)


X1_dtft_norm = np.abs(X1_dtft) / np.max(np.abs(X1_dtft))
X2_dtft_norm = np.abs(X2_dtft) / np.max(np.abs(X2_dtft))
X3_dtft_norm = np.abs(X3_dtft) / np.max(np.abs(X3_dtft))



plt.subplot(1, 2, 2)
plt.plot(f[:N//2], X1_dtft_norm[:N//2], label="f1 = 500 Hz (Windowed)")
plt.plot(f[:N//2], X2_dtft_norm[:N//2], label="f2 = 500.25 Hz (Windowed)")
plt.plot(f[:N//2], X3_dtft_norm[:N//2], label="f3 = 499.75 Hz (Windowed)")
plt.title('Windowed DTFT Spectra (Normalized to Mainlobe Maximum)')
plt.xlabel('Frequency (Hz)')
plt.ylabel('Magnitude (Normalized)')
plt.legend()
plt.grid()

plt.tight_layout()
plt.show()



